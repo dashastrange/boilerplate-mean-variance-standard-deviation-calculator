{
 "cells": [
  {
   "metadata": {},
   "cell_type": "markdown",
   "source": [
    "Create a function named calculate() in mean_var_std.py that uses Numpy to output the mean, variance, standard deviation, max, min, and sum of the rows, columns, and elements in a 3 x 3 matrix.\n",
    "\n",
    "The input of the function should be a list containing 9 digits. The function should convert the list into a 3 x 3 Numpy array, and then return a dictionary containing the mean, variance, standard deviation, max, min, and sum along both axes and for the flattened matrix.\n",
    "\n",
    "The returned dictionary should follow this format:"
   ],
   "id": "aa9c5ecc9e5b4b86"
  },
  {
   "cell_type": "code",
   "execution_count": null,
   "id": "initial_id",
   "metadata": {
    "collapsed": true
   },
   "outputs": [],
   "source": [
    "{\n",
    "  'mean': [axis1, axis2, flattened],\n",
    "  'variance': [axis1, axis2, flattened],\n",
    "  'standard deviation': [axis1, axis2, flattened],\n",
    "  'max': [axis1, axis2, flattened],\n",
    "  'min': [axis1, axis2, flattened],\n",
    "  'sum': [axis1, axis2, flattened]\n",
    "}"
   ]
  },
  {
   "metadata": {},
   "cell_type": "markdown",
   "source": [
    "If a list containing less than 9 elements is passed into the function, it should raise a ValueError exception with the message: \"List must contain nine numbers.\" The values in the returned dictionary should be lists and not Numpy arrays.\n",
    "\n",
    "For example, calculate([0,1,2,3,4,5,6,7,8]) should return:"
   ],
   "id": "a073db590436e95"
  },
  {
   "metadata": {},
   "cell_type": "code",
   "outputs": [],
   "execution_count": null,
   "source": [
    "{\n",
    "  'mean': [[3.0, 4.0, 5.0], [1.0, 4.0, 7.0], 4.0],\n",
    "  'variance': [[6.0, 6.0, 6.0], [0.6666666666666666, 0.6666666666666666, 0.6666666666666666], 6.666666666666667],\n",
    "  'standard deviation': [[2.449489742783178, 2.449489742783178, 2.449489742783178], [0.816496580927726, 0.816496580927726, 0.816496580927726], 2.581988897471611],\n",
    "  'max': [[6, 7, 8], [2, 5, 8], 8],\n",
    "  'min': [[0, 1, 2], [0, 3, 6], 0],\n",
    "  'sum': [[9, 12, 15], [3, 12, 21], 36]\n",
    "}"
   ],
   "id": "9667f94d3c8b70d"
  },
  {
   "metadata": {},
   "cell_type": "markdown",
   "source": [
    "**Development**\n",
    "Write your code in mean_var_std.py. For development, you can use main.py to test your code. In order to run your code, type python3 main.py into the GitPod terminal and hit enter. This will cause the included CPython interpreter to run the main.py file.\n",
    "\n",
    "**Testing**\n",
    "The unit tests for this project are in test_module.py. We imported the tests from test_module.py to main.py for your convenience."
   ],
   "id": "b0fe2463d143b5c8"
  },
  {
   "metadata": {},
   "cell_type": "markdown",
   "source": "-------------------------------START-------------------------------------------------------------------------",
   "id": "1aca09ce0d14fdbd"
  },
  {
   "metadata": {},
   "cell_type": "markdown",
   "source": "The input of the function should be a list containing 9 digits.",
   "id": "5530b3c725a37305"
  },
  {
   "metadata": {
    "ExecuteTime": {
     "end_time": "2025-05-22T19:06:54.087800Z",
     "start_time": "2025-05-22T19:06:54.042218Z"
    }
   },
   "cell_type": "code",
   "source": "import numpy as np",
   "id": "d3e356de06ab7abb",
   "outputs": [],
   "execution_count": 1
  },
  {
   "metadata": {
    "ExecuteTime": {
     "end_time": "2025-05-22T19:07:27.192207Z",
     "start_time": "2025-05-22T19:07:27.189363Z"
    }
   },
   "cell_type": "code",
   "source": "matrix_list = [0, 1, 2, 3, 4, 5, 6, 7, 8, 9]",
   "id": "d31abfd3625bdd69",
   "outputs": [],
   "execution_count": 2
  },
  {
   "metadata": {},
   "cell_type": "markdown",
   "source": "The function should convert the list into a 3 x 3 Numpy array",
   "id": "e554b5828ecef909"
  },
  {
   "metadata": {
    "ExecuteTime": {
     "end_time": "2025-05-22T19:11:45.286119Z",
     "start_time": "2025-05-22T19:11:45.282981Z"
    }
   },
   "cell_type": "code",
   "source": [
    "def list_to_matrix(matrix_list):\n",
    "    mtrx = np.array(matrix_list).reshape(3,3)\n",
    "    return mtrx\n"
   ],
   "id": "650f35e43df04be7",
   "outputs": [],
   "execution_count": 8
  },
  {
   "metadata": {},
   "cell_type": "code",
   "outputs": [],
   "execution_count": null,
   "source": "",
   "id": "b1eeb24e152c17fa"
  }
 ],
 "metadata": {
  "kernelspec": {
   "display_name": "Python 3",
   "language": "python",
   "name": "python3"
  },
  "language_info": {
   "codemirror_mode": {
    "name": "ipython",
    "version": 2
   },
   "file_extension": ".py",
   "mimetype": "text/x-python",
   "name": "python",
   "nbconvert_exporter": "python",
   "pygments_lexer": "ipython2",
   "version": "2.7.6"
  }
 },
 "nbformat": 4,
 "nbformat_minor": 5
}
