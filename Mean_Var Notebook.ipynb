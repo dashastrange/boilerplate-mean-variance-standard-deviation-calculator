{
 "cells": [
  {
   "metadata": {},
   "cell_type": "markdown",
   "source": [
    "Create a function named calculate() in mean_var_std.py that uses Numpy to output the mean, variance, standard deviation, max, min, and sum of the rows, columns, and elements in a 3 x 3 matrix.\n",
    "\n",
    "The input of the function should be a list containing 9 digits. The function should convert the list into a 3 x 3 Numpy array, and then return a dictionary containing the mean, variance, standard deviation, max, min, and sum along both axes and for the flattened matrix.\n",
    "\n",
    "The returned dictionary should follow this format:"
   ],
   "id": "aa9c5ecc9e5b4b86"
  },
  {
   "cell_type": "code",
   "execution_count": null,
   "id": "initial_id",
   "metadata": {
    "collapsed": true
   },
   "outputs": [],
   "source": [
    "from logging import exception\n",
    "\n",
    "#{\n",
    "  #'mean': [axis1, axis2, flattened],\n",
    "  #'variance': [axis1, axis2, flattened],\n",
    "  #'standard deviation': [axis1, axis2, flattened],\n",
    "  #'max': [axis1, axis2, flattened],\n",
    " #'min': [axis1, axis2, flattened],\n",
    "  #'sum': [axis1, axis2, flattened]\n",
    "#}"
   ]
  },
  {
   "metadata": {},
   "cell_type": "markdown",
   "source": [
    "If a list containing less than 9 elements is passed into the function, it should raise a ValueError exception with the message: \"List must contain nine numbers.\" The values in the returned dictionary should be lists and not Numpy arrays.\n",
    "\n",
    "For example, calculate([0,1,2,3,4,5,6,7,8]) should return:"
   ],
   "id": "a073db590436e95"
  },
  {
   "metadata": {},
   "cell_type": "code",
   "outputs": [],
   "execution_count": null,
   "source": [
    "{\n",
    "  'mean': [[3.0, 4.0, 5.0], [1.0, 4.0, 7.0], 4.0],\n",
    "  'variance': [[6.0, 6.0, 6.0], [0.6666666666666666, 0.6666666666666666, 0.6666666666666666], 6.666666666666667],\n",
    "  'standard deviation': [[2.449489742783178, 2.449489742783178, 2.449489742783178], [0.816496580927726, 0.816496580927726, 0.816496580927726], 2.581988897471611],\n",
    "  'max': [[6, 7, 8], [2, 5, 8], 8],\n",
    "  'min': [[0, 1, 2], [0, 3, 6], 0],\n",
    "  'sum': [[9, 12, 15], [3, 12, 21], 36]\n",
    "}"
   ],
   "id": "9667f94d3c8b70d"
  },
  {
   "metadata": {},
   "cell_type": "markdown",
   "source": [
    "**Development**\n",
    "Write your code in mean_var_std.py. For development, you can use main.py to test your code. In order to run your code, type python3 main.py into the GitPod terminal and hit enter. This will cause the included CPython interpreter to run the main.py file.\n",
    "\n",
    "**Testing**\n",
    "The unit tests for this project are in test_module.py. We imported the tests from test_module.py to main.py for your convenience."
   ],
   "id": "b0fe2463d143b5c8"
  },
  {
   "metadata": {},
   "cell_type": "markdown",
   "source": "-------------------------------START-------------------------------------------------------------------------",
   "id": "1aca09ce0d14fdbd"
  },
  {
   "metadata": {},
   "cell_type": "markdown",
   "source": "The input of the function should be a list containing 9 digits.",
   "id": "5530b3c725a37305"
  },
  {
   "metadata": {
    "ExecuteTime": {
     "end_time": "2025-05-22T19:06:54.087800Z",
     "start_time": "2025-05-22T19:06:54.042218Z"
    }
   },
   "cell_type": "code",
   "source": "import numpy as np",
   "id": "d3e356de06ab7abb",
   "outputs": [],
   "execution_count": 1
  },
  {
   "metadata": {
    "ExecuteTime": {
     "end_time": "2025-05-22T22:38:26.989834Z",
     "start_time": "2025-05-22T22:38:26.987356Z"
    }
   },
   "cell_type": "code",
   "source": "matrix_list = [1, 2, 3, 4, 5, 6, 7, 8, 9]",
   "id": "d31abfd3625bdd69",
   "outputs": [],
   "execution_count": 49
  },
  {
   "metadata": {},
   "cell_type": "markdown",
   "source": "The function should convert the list into a 3 x 3 Numpy array",
   "id": "e554b5828ecef909"
  },
  {
   "metadata": {
    "ExecuteTime": {
     "end_time": "2025-05-22T22:38:28.684759Z",
     "start_time": "2025-05-22T22:38:28.682068Z"
    }
   },
   "cell_type": "code",
   "source": [
    "mtrx = np.array(matrix_list).reshape(3,3)\n",
    "print(mtrx)"
   ],
   "id": "650f35e43df04be7",
   "outputs": [
    {
     "name": "stdout",
     "output_type": "stream",
     "text": [
      "[[1 2 3]\n",
      " [4 5 6]\n",
      " [7 8 9]]\n"
     ]
    }
   ],
   "execution_count": 50
  },
  {
   "metadata": {
    "ExecuteTime": {
     "end_time": "2025-05-22T22:37:54.409830Z",
     "start_time": "2025-05-22T22:37:54.406676Z"
    }
   },
   "cell_type": "code",
   "source": "mtrx",
   "id": "b1eeb24e152c17fa",
   "outputs": [
    {
     "data": {
      "text/plain": [
       "array([[1, 2, 3],\n",
       "       [4, 5, 6],\n",
       "       [7, 8, 9]])"
      ]
     },
     "execution_count": 46,
     "metadata": {},
     "output_type": "execute_result"
    }
   ],
   "execution_count": 46
  },
  {
   "metadata": {},
   "cell_type": "markdown",
   "source": "Return a dictionary containing the mean, variance, standard deviation, max, min, and sum along both axes and for the flattened matrix.",
   "id": "c7ba5b2e3abffd5c"
  },
  {
   "metadata": {},
   "cell_type": "markdown",
   "source": "Mean",
   "id": "ac1de73d4c893a36"
  },
  {
   "metadata": {
    "ExecuteTime": {
     "end_time": "2025-05-22T22:27:45.063532Z",
     "start_time": "2025-05-22T22:27:45.059916Z"
    }
   },
   "cell_type": "code",
   "source": "list(mtrx.mean(axis=0)) #rows",
   "id": "1d5ed221cb15a1eb",
   "outputs": [
    {
     "data": {
      "text/plain": [
       "[np.float64(4.0), np.float64(5.0), np.float64(6.0)]"
      ]
     },
     "execution_count": 37,
     "metadata": {},
     "output_type": "execute_result"
    }
   ],
   "execution_count": 37
  },
  {
   "metadata": {
    "ExecuteTime": {
     "end_time": "2025-05-22T22:27:57.207368Z",
     "start_time": "2025-05-22T22:27:57.203658Z"
    }
   },
   "cell_type": "code",
   "source": "list(mtrx.mean(axis=1)) #columns",
   "id": "3603aa8dc36826f2",
   "outputs": [
    {
     "data": {
      "text/plain": [
       "[np.float64(2.0), np.float64(5.0), np.float64(8.0)]"
      ]
     },
     "execution_count": 38,
     "metadata": {},
     "output_type": "execute_result"
    }
   ],
   "execution_count": 38
  },
  {
   "metadata": {
    "ExecuteTime": {
     "end_time": "2025-05-22T22:28:17.848419Z",
     "start_time": "2025-05-22T22:28:17.844973Z"
    }
   },
   "cell_type": "code",
   "source": "mtrx.mean() #flattened",
   "id": "16dd57cdc7d7011f",
   "outputs": [
    {
     "data": {
      "text/plain": [
       "np.float64(5.0)"
      ]
     },
     "execution_count": 40,
     "metadata": {},
     "output_type": "execute_result"
    }
   ],
   "execution_count": 40
  },
  {
   "metadata": {
    "ExecuteTime": {
     "end_time": "2025-05-22T22:28:54.010134Z",
     "start_time": "2025-05-22T22:28:54.008048Z"
    }
   },
   "cell_type": "code",
   "source": [
    "mean_dict = {\n",
    "    'mean': [list(mtrx.mean(axis=0)), list(mtrx.mean(axis=1)), mtrx.mean()]\n",
    "}"
   ],
   "id": "ab2e919b13e47045",
   "outputs": [],
   "execution_count": 41
  },
  {
   "metadata": {},
   "cell_type": "markdown",
   "source": "Variance",
   "id": "d7fe008177150116"
  },
  {
   "metadata": {
    "ExecuteTime": {
     "end_time": "2025-05-22T22:21:59.547736Z",
     "start_time": "2025-05-22T22:21:59.544543Z"
    }
   },
   "cell_type": "code",
   "source": [
    "var_dict = {\n",
    "    'variance': [list(mtrx.var(axis=0)), list(mtrx.var(axis=1)), mtrx.var()]\n",
    "}"
   ],
   "id": "16e62602b465ab8f",
   "outputs": [],
   "execution_count": 30
  },
  {
   "metadata": {},
   "cell_type": "markdown",
   "source": "Standard Deviation",
   "id": "d7206aff9ba5c7c6"
  },
  {
   "metadata": {
    "ExecuteTime": {
     "end_time": "2025-05-22T22:22:52.255759Z",
     "start_time": "2025-05-22T22:22:52.252201Z"
    }
   },
   "cell_type": "code",
   "source": [
    "dev_dict = {\n",
    "    'standard deviation': [list(mtrx.std(axis=0)), list(mtrx.std(axis=1)), mtrx.std()]\n",
    "}"
   ],
   "id": "59fba9631afc3cb6",
   "outputs": [],
   "execution_count": 31
  },
  {
   "metadata": {},
   "cell_type": "markdown",
   "source": "Max",
   "id": "36bff2113803c28d"
  },
  {
   "metadata": {
    "ExecuteTime": {
     "end_time": "2025-05-22T22:23:34.956705Z",
     "start_time": "2025-05-22T22:23:34.954102Z"
    }
   },
   "cell_type": "code",
   "source": [
    "max_dict = {\n",
    "    'max': [list(mtrx.max(axis=0)), list(mtrx.max(axis=1)), mtrx.max()]\n",
    "}"
   ],
   "id": "b75f1b0d0dd7fbd2",
   "outputs": [],
   "execution_count": 32
  },
  {
   "metadata": {},
   "cell_type": "markdown",
   "source": "Min",
   "id": "ffebb54b1ff61377"
  },
  {
   "metadata": {
    "ExecuteTime": {
     "end_time": "2025-05-22T22:23:57.948960Z",
     "start_time": "2025-05-22T22:23:57.946565Z"
    }
   },
   "cell_type": "code",
   "source": [
    "min_dict = {\n",
    "    'min': [list(mtrx.min(axis=0)), list(mtrx.min(axis=1)), mtrx.min()]\n",
    "}"
   ],
   "id": "50055202a3fb0a6d",
   "outputs": [],
   "execution_count": 33
  },
  {
   "metadata": {},
   "cell_type": "markdown",
   "source": "Sum",
   "id": "d2f012290f9d9a0e"
  },
  {
   "metadata": {
    "ExecuteTime": {
     "end_time": "2025-05-22T22:24:23.686258Z",
     "start_time": "2025-05-22T22:24:23.683625Z"
    }
   },
   "cell_type": "code",
   "source": [
    "sum_dict = {\n",
    "    'sum': [list(mtrx.sum(axis=0)), list(mtrx.sum(axis=1)), mtrx.sum()]\n",
    "}"
   ],
   "id": "2622267c2b31ccd1",
   "outputs": [],
   "execution_count": 34
  },
  {
   "metadata": {},
   "cell_type": "markdown",
   "source": "Merging it in the one dictionary",
   "id": "1942af0b0fd1d9f2"
  },
  {
   "metadata": {
    "ExecuteTime": {
     "end_time": "2025-05-22T22:31:35.916017Z",
     "start_time": "2025-05-22T22:31:35.912042Z"
    }
   },
   "cell_type": "code",
   "source": [
    "calc_dict = {\n",
    "    'mean': [list(mtrx.mean(axis=0)), list(mtrx.mean(axis=1)), mtrx.mean()],\n",
    "    'variance': [list(mtrx.var(axis=0)), list(mtrx.var(axis=1)), mtrx.var()],\n",
    "    'standard deviation': [mtrx.std(axis=0), list(mtrx.std(axis=1)), mtrx.std()],\n",
    "    'max': [list(mtrx.max(axis=0)), list(mtrx.max(axis=1)), mtrx.max()],\n",
    "    'min': [list(mtrx.min(axis=0)), list(mtrx.min(axis=1)), mtrx.min()],\n",
    "    'sum': [list(mtrx.sum(axis=0)), list(mtrx.sum(axis=1)), mtrx.sum()]\n",
    "}"
   ],
   "id": "cfe8b4fa67581603",
   "outputs": [],
   "execution_count": 42
  },
  {
   "metadata": {
    "ExecuteTime": {
     "end_time": "2025-05-22T22:31:38.329987Z",
     "start_time": "2025-05-22T22:31:38.326410Z"
    }
   },
   "cell_type": "code",
   "source": "calc_dict",
   "id": "b273af1d3abafcd2",
   "outputs": [
    {
     "data": {
      "text/plain": [
       "{'mean': [[np.float64(4.0), np.float64(5.0), np.float64(6.0)],\n",
       "  [np.float64(2.0), np.float64(5.0), np.float64(8.0)],\n",
       "  np.float64(5.0)],\n",
       " 'variance': [[np.float64(6.0), np.float64(6.0), np.float64(6.0)],\n",
       "  [np.float64(0.6666666666666666),\n",
       "   np.float64(0.6666666666666666),\n",
       "   np.float64(0.6666666666666666)],\n",
       "  np.float64(6.666666666666667)],\n",
       " 'standard deviation': [array([2.44948974, 2.44948974, 2.44948974]),\n",
       "  [np.float64(0.816496580927726),\n",
       "   np.float64(0.816496580927726),\n",
       "   np.float64(0.816496580927726)],\n",
       "  np.float64(2.581988897471611)],\n",
       " 'max': [[np.int64(7), np.int64(8), np.int64(9)],\n",
       "  [np.int64(3), np.int64(6), np.int64(9)],\n",
       "  np.int64(9)],\n",
       " 'min': [[np.int64(1), np.int64(2), np.int64(3)],\n",
       "  [np.int64(1), np.int64(4), np.int64(7)],\n",
       "  np.int64(1)],\n",
       " 'sum': [[np.int64(12), np.int64(15), np.int64(18)],\n",
       "  [np.int64(6), np.int64(15), np.int64(24)],\n",
       "  np.int64(45)]}"
      ]
     },
     "execution_count": 43,
     "metadata": {},
     "output_type": "execute_result"
    }
   ],
   "execution_count": 43
  },
  {
   "metadata": {},
   "cell_type": "markdown",
   "source": "If a list containing less than 9 elements is passed into the function, it should raise a ValueError exception with the message: \"List must contain nine numbers.\"",
   "id": "6e54ada6a96818b8"
  },
  {
   "metadata": {
    "ExecuteTime": {
     "end_time": "2025-05-22T22:38:32.858625Z",
     "start_time": "2025-05-22T22:38:32.855963Z"
    }
   },
   "cell_type": "code",
   "source": [
    "if len(matrix_list) < 9:\n",
    "    raise ValueError(\"List must contain nine numbers.\")"
   ],
   "id": "4ad1ebf836644f1d",
   "outputs": [],
   "execution_count": 51
  },
  {
   "metadata": {},
   "cell_type": "markdown",
   "source": "In the mean_var_std.py I will gather all parts together to solve the task!\n",
   "id": "1772f5425f4d71b8"
  }
 ],
 "metadata": {
  "kernelspec": {
   "display_name": "Python 3",
   "language": "python",
   "name": "python3"
  },
  "language_info": {
   "codemirror_mode": {
    "name": "ipython",
    "version": 2
   },
   "file_extension": ".py",
   "mimetype": "text/x-python",
   "name": "python",
   "nbconvert_exporter": "python",
   "pygments_lexer": "ipython2",
   "version": "2.7.6"
  }
 },
 "nbformat": 4,
 "nbformat_minor": 5
}
